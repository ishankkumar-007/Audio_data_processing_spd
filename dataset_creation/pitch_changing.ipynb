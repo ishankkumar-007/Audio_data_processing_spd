{
 "cells": [
  {
   "cell_type": "code",
   "execution_count": 9,
   "metadata": {},
   "outputs": [],
   "source": [
    "import librosa\n",
    "import random\n",
    "import soundfile\n",
    "\n",
    "def manipulate(data, sampling_rate, pitch_factor):\n",
    "    return librosa.effects.pitch_shift(data, sr=sampling_rate, n_steps=pitch_factor)\n",
    "\n",
    "def create_datasets(audio_file, output_folder, num_datasets):\n",
    "    # Load the audio file\n",
    "    data, sampling_rate = librosa.load(audio_file, sr=None)\n",
    "    \n",
    "    # Define pitch factors for each dataset\n",
    "    pitch_factors = range(-10, 11)  # Adjust as needed\n",
    "    \n",
    "    # Create 20 datasets with different pitch shifts\n",
    "    for i in range(num_datasets):\n",
    "        # Choose a random pitch factor\n",
    "        pitch_factor = random.choice(pitch_factors)\n",
    "        \n",
    "        # Manipulate the audio with the chosen pitch factor\n",
    "        manipulated_data = manipulate(data, sampling_rate, pitch_factor)\n",
    "        \n",
    "        # Write the manipulated audio to a new file\n",
    "        output_file = f\"{output_folder}/dataset_{i+1}_pitch_{pitch_factor}.wav\"\n",
    "        # librosa.output.write_wav(output_file, manipulated_data, sampling_rate)  this has been deprecated now\n",
    "        soundfile.write(output_file, manipulated_data, sampling_rate)\n",
    "        print(f\"Dataset {i+1} created with pitch shift factor: {pitch_factor}\")\n",
    "\n",
    "\n",
    "        # librosa.output.write_wav(output_file, manipulated_data, sampling_rate)\n",
    "        # librosa.output.write_wav('samples/{}.wav'.format(chr(int(i/50)+65)), tmp_batch, sr)\n",
    "        \n",
    "        # import soundfile as sf\n",
    "\n"
   ]
  },
  {
   "cell_type": "code",
   "execution_count": 10,
   "metadata": {},
   "outputs": [
    {
     "name": "stdout",
     "output_type": "stream",
     "text": [
      "Dataset 1 created with pitch shift factor: 10\n",
      "Dataset 2 created with pitch shift factor: 10\n",
      "Dataset 3 created with pitch shift factor: 3\n",
      "Dataset 4 created with pitch shift factor: -4\n",
      "Dataset 5 created with pitch shift factor: 0\n",
      "Dataset 6 created with pitch shift factor: -9\n",
      "Dataset 7 created with pitch shift factor: 3\n",
      "Dataset 8 created with pitch shift factor: 3\n",
      "Dataset 9 created with pitch shift factor: 6\n",
      "Dataset 10 created with pitch shift factor: -9\n",
      "Dataset 11 created with pitch shift factor: -8\n",
      "Dataset 12 created with pitch shift factor: -2\n",
      "Dataset 13 created with pitch shift factor: 2\n",
      "Dataset 14 created with pitch shift factor: -5\n",
      "Dataset 15 created with pitch shift factor: -6\n",
      "Dataset 16 created with pitch shift factor: 5\n",
      "Dataset 17 created with pitch shift factor: 7\n",
      "Dataset 18 created with pitch shift factor: 5\n",
      "Dataset 19 created with pitch shift factor: -7\n",
      "Dataset 20 created with pitch shift factor: 1\n"
     ]
    }
   ],
   "source": [
    "# # uncomment when required to create datasets\n",
    "# audio_file = '../audio_data/dash.wav'  # Path to your input audio file\n",
    "# output_folder = \"output_datasets/dash\"  # Folder to save the generated datasets\n",
    "# num_datasets = 20\n",
    "# create_datasets(audio_file, output_folder, num_datasets)"
   ]
  },
  {
   "cell_type": "code",
   "execution_count": 11,
   "metadata": {},
   "outputs": [
    {
     "name": "stdout",
     "output_type": "stream",
     "text": [
      "Dataset 1 created with pitch shift factor: 7\n",
      "Dataset 2 created with pitch shift factor: 6\n",
      "Dataset 3 created with pitch shift factor: 1\n",
      "Dataset 4 created with pitch shift factor: 8\n",
      "Dataset 5 created with pitch shift factor: -6\n",
      "Dataset 6 created with pitch shift factor: 6\n",
      "Dataset 7 created with pitch shift factor: 9\n",
      "Dataset 8 created with pitch shift factor: 1\n",
      "Dataset 9 created with pitch shift factor: -4\n",
      "Dataset 10 created with pitch shift factor: 2\n",
      "Dataset 11 created with pitch shift factor: -2\n",
      "Dataset 12 created with pitch shift factor: 3\n",
      "Dataset 13 created with pitch shift factor: -1\n",
      "Dataset 14 created with pitch shift factor: -5\n",
      "Dataset 15 created with pitch shift factor: -3\n",
      "Dataset 16 created with pitch shift factor: 0\n",
      "Dataset 17 created with pitch shift factor: -1\n",
      "Dataset 18 created with pitch shift factor: 5\n",
      "Dataset 19 created with pitch shift factor: 10\n",
      "Dataset 20 created with pitch shift factor: -5\n"
     ]
    }
   ],
   "source": [
    "# # uncomment when required to create datasets\n",
    "# audio_file = '../audio_data/dot.wav'  # Path to your input audio file\n",
    "# output_folder = \"output_datasets/dot\"  # Folder to save the generated datasets\n",
    "# num_datasets = 20\n",
    "# create_datasets(audio_file, output_folder, num_datasets)"
   ]
  },
  {
   "cell_type": "code",
   "execution_count": 13,
   "metadata": {},
   "outputs": [
    {
     "data": {
      "text/html": [
       "\n",
       "                <audio  controls=\"controls\" >\n",
       "                    <source src=\"data:audio/wav;base64,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\" type=\"audio/wav\" />\n",
       "                    Your browser does not support the audio element.\n",
       "                </audio>\n",
       "              "
      ],
      "text/plain": [
       "<IPython.lib.display.Audio object>"
      ]
     },
     "execution_count": 13,
     "metadata": {},
     "output_type": "execute_result"
    }
   ],
   "source": [
    "import IPython.display as ipd\n",
    "ipd.Audio('output_datasets/dash/dataset_1_pitch_10.wav')"
   ]
  }
 ],
 "metadata": {
  "kernelspec": {
   "display_name": "Python 3",
   "language": "python",
   "name": "python3"
  },
  "language_info": {
   "codemirror_mode": {
    "name": "ipython",
    "version": 3
   },
   "file_extension": ".py",
   "mimetype": "text/x-python",
   "name": "python",
   "nbconvert_exporter": "python",
   "pygments_lexer": "ipython3",
   "version": "3.12.0"
  }
 },
 "nbformat": 4,
 "nbformat_minor": 2
}
