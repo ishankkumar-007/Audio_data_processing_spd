{
 "cells": [
  {
   "cell_type": "code",
   "execution_count": 2,
   "metadata": {},
   "outputs": [],
   "source": [
    "import librosa\n",
    "import numpy as np\n",
    "import soundfile\n",
    "import os\n",
    "\n",
    "def manipulate(data, noise_factor):\n",
    "    noise = np.random.randn(len(data))\n",
    "    augmented_data = data + noise_factor * noise\n",
    "    # Cast back to same data type\n",
    "    augmented_data = augmented_data.astype(type(data[0]))\n",
    "    return augmented_data\n",
    "\n",
    "def create_datasets(audio_file, output_folder, num_datasets):\n",
    "    # Load the audio file\n",
    "    data, sampling_rate = librosa.load(audio_file, sr=None)\n",
    "    \n",
    "    # Create the output folder if it doesn't exist\n",
    "    if not os.path.exists(output_folder):\n",
    "        os.makedirs(output_folder)\n",
    "    \n",
    "    # Define noise factors for each dataset\n",
    "    noise_factors = np.linspace(0.1, 1, num=num_datasets)  # Adjust as needed\n",
    "    \n",
    "    # Create 20 datasets with different noise factors\n",
    "    for i, noise_factor in enumerate(noise_factors):\n",
    "        # Manipulate the audio with the chosen noise factor\n",
    "        augmented_data = manipulate(data, noise_factor)\n",
    "        \n",
    "        # Write the manipulated audio to a new file\n",
    "        output_file = os.path.join(output_folder, f\"dataset_{i+1}_noise_{noise_factor:.2f}.wav\")\n",
    "        # librosa.output.write_wav(output_file, augmented_data, sampling_rate)  this has been deprecated now\n",
    "        soundfile.write(output_file, augmented_data, sampling_rate)\n",
    "        print(f\"Dataset {i+1} created with noise factor: {noise_factor:.2f}\")\n",
    "\n",
    "\n"
   ]
  },
  {
   "cell_type": "code",
   "execution_count": 3,
   "metadata": {},
   "outputs": [
    {
     "name": "stdout",
     "output_type": "stream",
     "text": [
      "Dataset 1 created with noise factor: 0.10\n",
      "Dataset 2 created with noise factor: 0.15\n",
      "Dataset 3 created with noise factor: 0.19\n",
      "Dataset 4 created with noise factor: 0.24\n",
      "Dataset 5 created with noise factor: 0.29\n",
      "Dataset 6 created with noise factor: 0.34\n",
      "Dataset 7 created with noise factor: 0.38\n",
      "Dataset 8 created with noise factor: 0.43\n",
      "Dataset 9 created with noise factor: 0.48\n",
      "Dataset 10 created with noise factor: 0.53\n",
      "Dataset 11 created with noise factor: 0.57\n",
      "Dataset 12 created with noise factor: 0.62\n",
      "Dataset 13 created with noise factor: 0.67\n",
      "Dataset 14 created with noise factor: 0.72\n",
      "Dataset 15 created with noise factor: 0.76\n",
      "Dataset 16 created with noise factor: 0.81\n",
      "Dataset 17 created with noise factor: 0.86\n",
      "Dataset 18 created with noise factor: 0.91\n",
      "Dataset 19 created with noise factor: 0.95\n",
      "Dataset 20 created with noise factor: 1.00\n"
     ]
    }
   ],
   "source": [
    "# # uncomment when required to create datasets\n",
    "# audio_file = '../audio_data/dash.wav'  # Path to your input audio file\n",
    "# output_folder = \"output_datasets/dash\"  # Folder to save the generated datasets\n",
    "# num_datasets = 20\n",
    "# create_datasets(audio_file, output_folder, num_datasets)"
   ]
  },
  {
   "cell_type": "code",
   "execution_count": 4,
   "metadata": {},
   "outputs": [
    {
     "name": "stdout",
     "output_type": "stream",
     "text": [
      "Dataset 1 created with noise factor: 0.10\n",
      "Dataset 2 created with noise factor: 0.15\n",
      "Dataset 3 created with noise factor: 0.19\n",
      "Dataset 4 created with noise factor: 0.24\n",
      "Dataset 5 created with noise factor: 0.29\n",
      "Dataset 6 created with noise factor: 0.34\n",
      "Dataset 7 created with noise factor: 0.38\n",
      "Dataset 8 created with noise factor: 0.43\n",
      "Dataset 9 created with noise factor: 0.48\n",
      "Dataset 10 created with noise factor: 0.53\n",
      "Dataset 11 created with noise factor: 0.57\n",
      "Dataset 12 created with noise factor: 0.62\n",
      "Dataset 13 created with noise factor: 0.67\n",
      "Dataset 14 created with noise factor: 0.72\n",
      "Dataset 15 created with noise factor: 0.76\n",
      "Dataset 16 created with noise factor: 0.81\n",
      "Dataset 17 created with noise factor: 0.86\n",
      "Dataset 18 created with noise factor: 0.91\n",
      "Dataset 19 created with noise factor: 0.95\n",
      "Dataset 20 created with noise factor: 1.00\n"
     ]
    }
   ],
   "source": [
    "# # uncomment when required to create datasets\n",
    "# audio_file = '../audio_data/dot.wav'  # Path to your input audio file\n",
    "# output_folder = \"output_datasets/dot\"  # Folder to save the generated datasets\n",
    "# num_datasets = 20\n",
    "# create_datasets(audio_file, output_folder, num_datasets)"
   ]
  },
  {
   "cell_type": "code",
   "execution_count": 5,
   "metadata": {},
   "outputs": [
    {
     "data": {
      "text/html": [
       "\n",
       "                <audio  controls=\"controls\" >\n",
       "                    <source src=\"data:audio/wav;base64,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\" type=\"audio/wav\" />\n",
       "                    Your browser does not support the audio element.\n",
       "                </audio>\n",
       "              "
      ],
      "text/plain": [
       "<IPython.lib.display.Audio object>"
      ]
     },
     "execution_count": 5,
     "metadata": {},
     "output_type": "execute_result"
    }
   ],
   "source": [
    "import IPython.display as ipd\n",
    "ipd.Audio('output_datasets/dash/dataset_1_noise_0.10.wav')"
   ]
  }
 ],
 "metadata": {
  "kernelspec": {
   "display_name": "Python 3",
   "language": "python",
   "name": "python3"
  },
  "language_info": {
   "codemirror_mode": {
    "name": "ipython",
    "version": 3
   },
   "file_extension": ".py",
   "mimetype": "text/x-python",
   "name": "python",
   "nbconvert_exporter": "python",
   "pygments_lexer": "ipython3",
   "version": "3.12.0"
  }
 },
 "nbformat": 4,
 "nbformat_minor": 2
}
